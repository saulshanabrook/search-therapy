{
 "cells": [
  {
   "cell_type": "code",
   "execution_count": 1,
   "metadata": {},
   "outputs": [],
   "source": [
    "import bs4\n",
    "import requests\n",
    "import collections\n",
    "import tqdm\n",
    "import requests_cache\n",
    "\n",
    "requests_cache.install_cache('demo_cache')"
   ]
  },
  {
   "cell_type": "code",
   "execution_count": 2,
   "metadata": {},
   "outputs": [],
   "source": [
    "with open(\"site.html\") as f:\n",
    "    soup = bs4.BeautifulSoup(f)"
   ]
  },
  {
   "cell_type": "code",
   "execution_count": 3,
   "metadata": {},
   "outputs": [],
   "source": [
    "HEADERS = {'User-Agent': 'requests'}"
   ]
  },
  {
   "cell_type": "code",
   "execution_count": 4,
   "metadata": {},
   "outputs": [
    {
     "name": "stderr",
     "output_type": "stream",
     "text": [
      "100%|██████████| 262/262 [01:19<00:00,  3.28it/s]\n"
     ]
    }
   ],
   "source": [
    "# mapping of names to URLs\n",
    "results = collections.defaultdict(list)\n",
    "for span in tqdm.tqdm(soup.find_all('span', attrs={'ng-switch-when': \"person\"})):\n",
    "    # remove md designations at tend\n",
    "    last_name, first_and_middle, *_ = span.text.split(', ')\n",
    "    first_name, *middle = first_and_middle.split(' ')\n",
    "    for category in ('psychiatrists', 'therapists'):\n",
    "        for person in requests.get(\n",
    "            f'https://www.psychologytoday.com/us/{category}/suggestions?query={first_name}+{last_name}',\n",
    "            headers=HEADERS\n",
    "        ).json()['groups']['names']:\n",
    "            results[(first_name, last_name)].append(person['url'])"
   ]
  },
  {
   "cell_type": "code",
   "execution_count": 5,
   "metadata": {},
   "outputs": [
    {
     "name": "stderr",
     "output_type": "stream",
     "text": [
      "100%|██████████| 57/57 [01:00<00:00,  1.07s/it]\n"
     ]
    }
   ],
   "source": [
    "DESIRED_APPROACH = 'Cognitive Behavioral (CBT)'\n",
    "filtered = set()\n",
    "for link in tqdm.tqdm(set(link for links in results.values() for link in links)):\n",
    "    el = bs4.BeautifulSoup(\n",
    "        requests.get(link, headers=HEADERS).text\n",
    "    ).find(class_='attributes-treatment-orientation')\n",
    "    if el and DESIRED_APPROACH in el.text:\n",
    "        filtered.add(link)"
   ]
  },
  {
   "cell_type": "code",
   "execution_count": 6,
   "metadata": {},
   "outputs": [],
   "source": [
    "for url in filtered:\n",
    "    !open $url"
   ]
  },
  {
   "cell_type": "code",
   "execution_count": null,
   "metadata": {},
   "outputs": [],
   "source": []
  }
 ],
 "metadata": {
  "kernelspec": {
   "display_name": "Python 3",
   "language": "python",
   "name": "python3"
  },
  "language_info": {
   "codemirror_mode": {
    "name": "ipython",
    "version": 3
   },
   "file_extension": ".py",
   "mimetype": "text/x-python",
   "name": "python",
   "nbconvert_exporter": "python",
   "pygments_lexer": "ipython3",
   "version": "3.8.2"
  }
 },
 "nbformat": 4,
 "nbformat_minor": 4
}
